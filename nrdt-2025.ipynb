{
  "metadata": {
    "kernelspec": {
      "language": "python",
      "display_name": "Python 3",
      "name": "python3"
    },
    "language_info": {
      "name": "python",
      "version": "3.11.13",
      "mimetype": "text/x-python",
      "codemirror_mode": {
        "name": "ipython",
        "version": 3
      },
      "pygments_lexer": "ipython3",
      "nbconvert_exporter": "python",
      "file_extension": ".py"
    },
    "kaggle": {
      "accelerator": "none",
      "dataSources": [
        {
          "sourceId": 6280567,
          "sourceType": "datasetVersion",
          "datasetId": 3611116
        },
        {
          "sourceId": 9440771,
          "sourceType": "datasetVersion",
          "datasetId": 5737022
        }
      ],
      "dockerImageVersionId": 31089,
      "isInternetEnabled": true,
      "language": "python",
      "sourceType": "notebook",
      "isGpuEnabled": false
    },
    "colab": {
      "provenance": []
    }
  },
  "nbformat_minor": 0,
  "nbformat": 4,
  "cells": [
    {
      "cell_type": "markdown",
      "source": [
        "# NRDT simplified (spectogram aiming to replace MFCC with reduced complexity)\n",
        "# A transform with less than 20 code lines proved so far a convenient replacement of more sofisticated transforms (e.g.MFCCs) for various signal recognition problems.\n",
        "# Particularly useful for HW-oriented devices (MCU, FPGAs) in the Tiny-ML context\n",
        "\n",
        "\n",
        "Copyright Radu and Ioana DOGARU\n",
        "Contact: radu.dogaru@upb.ro\n",
        "Last update  Sept. 23, Oct. 23, 2025\n",
        "\n",
        "For facile access to datasets run on Kaggle.\n",
        "\n",
        "**Relevant papers (please cite)**\n",
        "\n",
        "[1] R. Dogaru and I. Dogaru, \"A low complexity solution for epilepsy detection using an improved version of the reaction-diffusion transform,\" 2017 5th International Symposium on Electrical and Electronics Engineering (ISEEE), Galati, Romania, 2017, pp. 1-6, doi: 10.1109/ISEEE.2017.8170678.\n",
        "https://ieeexplore.ieee.org/document/8170678\n",
        "\n",
        "[2] R. Dogaru and I. Dogaru, \"State of the Art Recognition of Emotions from Speech, Using a Low Complexity Solution Based on Reaction-Diffusion Transform,\" 2022 International Symposium on Electronics and Telecommunications (ISETC), Timisoara, Romania, 2022, pp. 1-4, doi: 10.1109/ISETC56213.2022.10010234.\n",
        "https://ieeexplore.ieee.org/document/10010234\n",
        "\n",
        "\n",
        "# FixedPoint INT32 version with @JIT has around 100x speedup on CPU over MFCC in LIPBROSA\n",
        "nrdt_2025z()\n",
        "\n",
        "iRDT = improved RDT for usage in TinyML environments.\n",
        "\n",
        "Copyright Radu and Ioana DOGARU"
      ],
      "metadata": {
        "id": "QacwAV-iTDgm"
      }
    },
    {
      "cell_type": "code",
      "source": [
        "import numpy as np\n",
        "import librosa\n",
        "import time as ti\n",
        "import matplotlib.pyplot as plt\n",
        "from numba import jit\n",
        "import math\n",
        "\n",
        "@jit\n",
        "# Note: if input signals are float - remove commented lines and type of signal argument\n",
        "# This version works with int-type signal samples\n",
        "# INT32 implementation\n",
        "def nrdt_2025z(signal: np.int32, M=8, w=256, chan=[1,2,4,8, 16, 32, 64, 100]):\n",
        "    # Copyright Radu DOGARU, radu.dogaru@upb.ro July 20, 2025\n",
        "    #  assumes a float input signal in range -1,1 - internally it works with int32\n",
        "    #-------------------------------------------------------------------------------\n",
        "    #--- algorithm implementation int32\n",
        "    m = len(chan)            # number of delays (a.k.a. filter banks )\n",
        "    windows=len(signal)//w   # SHIFT when w is a power of 2\n",
        "    Feat_spec = np.zeros((M,m)).astype('int32') #\n",
        "    spectrum = np.zeros((windows,m)).astype('int32')\n",
        "    lin=0\n",
        "    limit=w//4   # a compromise between accuracy and comp. complexity (one may choose limit=w//2 or =0 for better accuracy\n",
        "\n",
        "    for i in range(0,windows): # Compute the RDT \"spectrum for each window \"\n",
        "        for k in range(0,m):\n",
        "            delay=chan[k]\n",
        "            spik=0\n",
        "            for t in range(limit, w-limit):\n",
        "                spik+=abs(signal[lin+t-delay]+signal[lin+t+delay]-2*signal[lin+t]) # // 2* as shift\n",
        "            spectrum[i,k]= spik\n",
        "        lin+=w\n",
        "    # Averaging to get M segments\n",
        "    # First and last rows are ignored to reject eroneous data computed out of signal buffers\n",
        "    fer_per_segment=(windows -2) // M   # *** Generally if M is not a power of 2 - this is the only one division in various deployments (important in FPGA)\n",
        "    lin=1  # start with 1 row (not with 0)\n",
        "    for k in range(0,M):\n",
        "        for col in range(0,m):\n",
        "            spik=0\n",
        "            for i in range(lin,lin+fer_per_segment):\n",
        "                spik += spectrum[i,col]\n",
        "            Feat_spec[k,col]= spik // (2*w)  # this can be done as shift *** 4 in caz de limit=0\n",
        "        lin+=fer_per_segment\n",
        "    #++++++++++++++++++++++++++++++++++++  next can be removed in HLS  (float conversion)\n",
        "    return Feat_spec\n",
        "\n",
        "# FLOAT32 implementation\n",
        "@jit\n",
        "def nrdt_2025zf(signal, M=8, w=256, chan=[1,2,4,8, 16, 32, 64, 100]):\n",
        "    # Copyright Radu DOGARU, radu.dogaru@upb.ro July 20, 2025\n",
        "    #  assumes a float input signal in range -1,1 - internally it works with int32\n",
        "    #-------------------------------------------------------------------------------\n",
        "    #--- algorithm implementation float32\n",
        "    m = len(chan)            # number of delays (a.k.a. filter banks )\n",
        "    windows=len(signal)//w   # SHIFT when w is a power of 2\n",
        "    Feat_spec = np.zeros((M,m)).astype('float32') #\n",
        "    spectrum = np.zeros((windows,m)).astype('float32')\n",
        "    lin=0\n",
        "    limit=w//4   # a compromise between accuracy and comp. complexity (one may choose limit=w//2 or =0 for better accuracy\n",
        "\n",
        "    for i in range(0,windows): # Compute the RDT \"spectrum for each window \"\n",
        "        for k in range(0,m):\n",
        "            delay=chan[k]\n",
        "            spik=0\n",
        "            for t in range(limit, w-limit):\n",
        "                spik+=abs(signal[lin+t-delay]+signal[lin+t+delay]-2*signal[lin+t]) # // 2* as shift\n",
        "            spectrum[i,k]= spik\n",
        "        lin+=w\n",
        "    # Averaging to get M segments\n",
        "    # First and last rows are ignored to reject eroneous data computed out of signal buffers\n",
        "    fer_per_segment=(windows -2) // M   # *** Generally if M is not a power of 2 - this is the only one division in various deployments (important in FPGA)\n",
        "    lin=1  # start with 1 row (not with 0)\n",
        "    for k in range(0,M):\n",
        "        for col in range(0,m):\n",
        "            spik=0\n",
        "            for i in range(lin,lin+fer_per_segment):\n",
        "                spik += spectrum[i,col]\n",
        "            Feat_spec[k,col]= spik // (2*w)  # this can be done as shift *** 4 in caz de limit=0\n",
        "        lin+=fer_per_segment\n",
        "    return Feat_spec\n"
      ],
      "metadata": {
        "trusted": true,
        "execution": {
          "iopub.status.busy": "2025-07-23T09:16:06.508945Z",
          "iopub.execute_input": "2025-07-23T09:16:06.510313Z",
          "iopub.status.idle": "2025-07-23T09:16:06.536687Z",
          "shell.execute_reply.started": "2025-07-23T09:16:06.510275Z",
          "shell.execute_reply": "2025-07-23T09:16:06.535374Z"
        },
        "id": "CZdCoy72TDgo"
      },
      "outputs": [],
      "execution_count": 8
    },
    {
      "cell_type": "markdown",
      "source": [
        "# Usage examples"
      ],
      "metadata": {
        "id": "pW1DEr55TDgr"
      }
    },
    {
      "cell_type": "code",
      "source": [
        "#ptt='/kaggle/input/bonn-eeg-dataset/Bonn Univeristy Dataset/O/O005.txt'\n",
        "ptt = '/content/O005.txt'  # In Colab - data must be preloaded in working space\n",
        "signal = np.loadtxt(ptt)\n",
        "feat=nrdt_2025z(signal, M=8, w=128, chan=[1,2,4,8,16,32]) #chan=[32,36,40,48,56,128]) #=list(range(1,128,4))\n",
        "print(feat)\n",
        "plt.subplot(1,2,1); plt.imshow(feat);\n",
        "plt.title('NRDT spectrogram')"
      ],
      "metadata": {
        "trusted": true,
        "execution": {
          "iopub.status.busy": "2025-07-23T09:23:54.768410Z",
          "iopub.execute_input": "2025-07-23T09:23:54.769331Z",
          "iopub.status.idle": "2025-07-23T09:23:54.909368Z",
          "shell.execute_reply.started": "2025-07-23T09:23:54.769296Z",
          "shell.execute_reply": "2025-07-23T09:23:54.908552Z"
        },
        "colab": {
          "base_uri": "https://localhost:8080/",
          "height": 539
        },
        "id": "llscNZRQTDgr",
        "outputId": "0b7105fd-1915-43bc-a343-222326a73993"
      },
      "outputs": [
        {
          "output_type": "stream",
          "name": "stdout",
          "text": [
            "[[  8  28  84 137  59  77]\n",
            " [  7  25  62  96  39  49]\n",
            " [  7  22  63 111  30  47]\n",
            " [  7  22  60 115  51  65]\n",
            " [  9  31  86 134  60  72]\n",
            " [  7  20  57  94  38  50]\n",
            " [  7  23  61 108  35  55]\n",
            " [  6  19  52  85  37  41]]\n"
          ]
        },
        {
          "output_type": "execute_result",
          "data": {
            "text/plain": [
              "Text(0.5, 1.0, 'NRDT spectrogram')"
            ]
          },
          "metadata": {},
          "execution_count": 9
        },
        {
          "output_type": "display_data",
          "data": {
            "text/plain": [
              "<Figure size 640x480 with 1 Axes>"
            ],
            "image/png": "[encoded data removed]"
          },
          "metadata": {}
        }
      ],
      "execution_count": 9
    },
    {
      "cell_type": "markdown",
      "source": [
        "# Comparison with MFCC with the same number of channells (mel-filters)\n",
        "\n",
        "Ignore the first run"
      ],
      "metadata": {
        "id": "Xyl0hEa_mXjs"
      }
    },
    {
      "cell_type": "code",
      "source": [
        "#ptt='/kaggle/input/bonn-eeg-dataset/Bonn Univeristy Dataset/O/O005.txt'\n",
        "# Or download files from https://www.upf.edu/web/ntsa/downloads/-/asset_publisher/xvT6E4pczrBw/content/2001-indications-of-nonlinear-deterministic-and-finite-dimensional-structures-in-time-series-of-brain-electrical-activity-dependence-on-recording-regi\n",
        "# in Colab you may upload locally\n",
        "ptt = '/content/O005.txt'\n",
        "signal = np.loadtxt(ptt)\n",
        "#signal = (np.random.rand(2**18)-0.5).astype('float32')\n",
        "\n",
        "# 1000 calls of iRDT\n",
        "chan=[1,2,4,6,8,10]\n",
        "t1=ti.time()\n",
        "for k in range(1000):\n",
        "  feat=nrdt_2025z(signal, M=9, w=128, chan=chan[::-1])   # .reverse to compare with MFCC - low frequenties on right side\n",
        "t2=ti.time()\n",
        "print('Duration of NRDT transform: ',t2-t1,'seconds for ',len(signal),' samples')\n",
        "\n",
        "# 1000 calls of MFCC\n",
        "t1=ti.time()\n",
        "for k in range(1000):\n",
        "  feat2 = librosa.feature.mfcc(y=signal, sr=10000, n_mfcc=6, n_fft=2048, hop_length=512).T\n",
        "  #feat2 = librosa.feature.mfcc(y=signal, sr=10000, n_mfcc=6, n_fft=2048*64, hop_length=512*64).T\n",
        "t2=ti.time()\n",
        "print('Duration of MFCC transform: ',t2-t1,'seconds for ',len(signal),' samples')\n",
        "\n",
        "feat.shape\n",
        "print(feat)\n",
        "plt.subplot(1,2,1); plt.imshow(feat); plt.title('NRDT spectrogram')\n",
        "plt.subplot(1,2,2); plt.imshow(feat2); plt.title('MFCC spectrogram')"
      ],
      "metadata": {
        "trusted": true,
        "execution": {
          "iopub.status.busy": "2025-07-23T09:09:12.921372Z",
          "iopub.execute_input": "2025-07-23T09:09:12.921759Z",
          "iopub.status.idle": "2025-07-23T09:09:13.434251Z",
          "shell.execute_reply.started": "2025-07-23T09:09:12.921734Z",
          "shell.execute_reply": "2025-07-23T09:09:13.433405Z"
        },
        "colab": {
          "base_uri": "https://localhost:8080/",
          "height": 629
        },
        "id": "BUg4I4V5TDgr",
        "outputId": "4f1bf2da-5e4a-457a-a61a-79870788cd6c"
      },
      "outputs": [
        {
          "output_type": "stream",
          "name": "stdout",
          "text": [
            "Duration of NRDT transform:  0.02959728240966797 seconds for  4097  samples\n",
            "Duration of MFCC transform:  4.220365524291992 seconds for  4097  samples\n",
            "[[115 137 126  84  28   8]\n",
            " [ 76  96  89  62  25   7]\n",
            " [ 94 111  98  63  22   7]\n",
            " [107 115  97  60  22   7]\n",
            " [110 134 128  86  31   9]\n",
            " [ 80  94  86  57  20   7]\n",
            " [100 108  92  61  23   7]\n",
            " [ 73  85  77  52  19   6]\n",
            " [ 88  98  91  63  24   7]]\n"
          ]
        },
        {
          "output_type": "execute_result",
          "data": {
            "text/plain": [
              "Text(0.5, 1.0, 'MFCC spectrogram')"
            ]
          },
          "metadata": {},
          "execution_count": 11
        },
        {
          "output_type": "display_data",
          "data": {
            "text/plain": [
              "<Figure size 640x480 with 2 Axes>"
            ],
            "image/png": "[encoded data removed]"
          },
          "metadata": {}
        }
      ],
      "execution_count": 11
    }
  ]
}